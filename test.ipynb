{
 "cells": [
  {
   "cell_type": "code",
   "execution_count": 6,
   "metadata": {},
   "outputs": [],
   "source": [
    "class Bank:\n",
    "    def __init__(self):\n",
    "        self.accounts = {}\n",
    "        self.transactions = []\n",
    "   \n",
    "    def create_account(self, account_number, initial_balance=0):\n",
    "      \n",
    "        if account_number not in self.accounts:\n",
    "            self.accounts[account_number] = initial_balance   \n",
    "            self.transactions.append(f\"حساب کاربری {account_number} با موجودی حساب {initial_balance} ایجاد شد.\")\n",
    "            print(f\"حساب کاربری {account_number} با موفقیت ساخته شد.\")\n",
    "        else:\n",
    "            print(f\"کاربر {account_number} از قبل ساخته شده است.\")\n",
    "    \n",
    "    def check_balance(self, account_number):\n",
    "        \n",
    "        if account_number in self.accounts:\n",
    "            return self.accounts[account_number]\n",
    "        else:\n",
    "            return f\"حساب{account_number} وجود ندارد.\"\n",
    "   \n",
    "    def withdraw(self, account_number, amount):\n",
    "       \n",
    "        if account_number in self.accounts:\n",
    "            if amount > 0 and amount <= self.accounts[account_number]:\n",
    "                self.accounts[account_number] -= amount\n",
    "                self.transactions.append(f\"مبلغ {amount} از حساب {account_number}برداشت شد.\")\n",
    "                print(f\"برداشت با موفقیت انجام شد. مانده حساب: {self.accounts[account_number]}\")\n",
    "            else:\n",
    "                print(f\"مبلغ برداشت نامعتبر یا وجوه کافی نیست.\")\n",
    "        else:\n",
    "            print(\"حساب {account_number} وجود ندارد.\")\n",
    "    \n",
    "    def deposit(self, account_number, amount):\n",
    "\n",
    "        if account_number in self.accounts:\n",
    "            if amount > 0:\n",
    "                self.accounts[account_number] += amount\n",
    "                self.transactions.append(f\"مبلغ {amount} به حساب {account_number} واریز شد.\")\n",
    "                print(f\"واریز با موفقیت انجام شد. مانده حساب: {self.accounts[account_number]}\")\n",
    "            else:\n",
    "                print(f\"مبلغ سپرده نامعتبر\")\n",
    "        else:\n",
    "            print(f\"حساب {account_number} وجود ندارد.\")\n",
    "    \n",
    "    def get_transactions(self):\n",
    "        return self.transactions\n",
    "    "
   ]
  },
  {
   "cell_type": "code",
   "execution_count": 17,
   "metadata": {},
   "outputs": [
    {
     "name": "stdout",
     "output_type": "stream",
     "text": [
      "حساب کاربری 1001 با موفقیت ساخته شد.\n",
      "واریز با موفقیت انجام شد. مانده حساب: 1500\n",
      "مانده حساب 1001: 1500\n",
      "برداشت با موفقیت انجام شد. مانده حساب: 1300\n",
      "مانده حساب 1001: 1300\n",
      "\n",
      "                                                                                        مجموع تراکنش ها برابر است با:\n",
      "['حساب کاربری 1001 با موجودی حساب 1000 ایجاد شد.', 'مبلغ 500 به حساب 1001 واریز شد.', 'مبلغ 200 از حساب 1001برداشت شد.']\n"
     ]
    }
   ],
   "source": [
    "bank = Bank()\n",
    "bank.create_account(1001, initial_balance=1000)\n",
    "bank.deposit(1001, 500)\n",
    "print(f\"مانده حساب 1001: {bank.check_balance(1001)}\")\n",
    "bank.withdraw(1001, 200)\n",
    "print(f\"مانده حساب 1001: {bank.check_balance(1001)}\")\n",
    "\n",
    "\n",
    "print(\"\\n                                                                                        مجموع تراکنش ها برابر است با:\")\n",
    "print(bank.get_transactions())"
   ]
  }
 ],
 "metadata": {
  "kernelspec": {
   "display_name": "Python 3",
   "language": "python",
   "name": "python3"
  },
  "language_info": {
   "codemirror_mode": {
    "name": "ipython",
    "version": 3
   },
   "file_extension": ".py",
   "mimetype": "text/x-python",
   "name": "python",
   "nbconvert_exporter": "python",
   "pygments_lexer": "ipython3",
   "version": "3.12.0"
  }
 },
 "nbformat": 4,
 "nbformat_minor": 2
}

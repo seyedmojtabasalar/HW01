{
 "cells": [
  {
   "cell_type": "code",
   "execution_count": 3,
   "id": "e815e1ce",
   "metadata": {},
   "outputs": [],
   "source": [
    "class Bank:\n",
    "    def __init__(self):\n",
    "        self.accounts = {}\n",
    "        self.transactions = []\n",
    "\n",
    "    def create_account(self, account_number, initial_balance=0):\n",
    "\n",
    "        if account_number not in self.accounts:\n",
    "            self.accounts[account_number] = initial_balance\n",
    "            self.transactions.append(f\"Account {account_number} created with an initial balance of {initial_balance}.\")\n",
    "            print(f\"Account {account_number} created successfully.\")\n",
    "        else:\n",
    "            print(f\"Account {account_number} already exists.\")\n",
    "\n",
    "    def check_balance(self, account_number):\n",
    "        if account_number in self.accounts:\n",
    "            return self.accounts[account_number]\n",
    "        else:\n",
    "            return f\"Account {account_number} does not exist.\"\n",
    "\n",
    "    def withdraw(self, account_number, amount):\n",
    "        if account_number in self.accounts:\n",
    "            if amount > 0 and amount <= self.accounts[account_number]:\n",
    "                self.accounts[account_number] -= amount\n",
    "                self.transactions.append(f\"Withdrew {amount} from account {account_number}.\")\n",
    "                print(f\"Withdrawal successful. Updated balance: {self.accounts[account_number]}\")\n",
    "            else:\n",
    "                print(\"Invalid withdrawal amount or insufficient funds.\")\n",
    "        else:\n",
    "            print(f\"Account {account_number} does not exist.\")\n",
    "\n",
    "    def deposit(self, account_number, amount):\n",
    "        if account_number in self.accounts:\n",
    "            if amount > 0:\n",
    "                self.accounts[account_number] += amount\n",
    "                self.transactions.append(f\"Deposited {amount} into account {account_number}.\")\n",
    "                print(f\"Deposit successful. Updated balance: {self.accounts[account_number]}\")\n",
    "            else:\n",
    "                print(\"Invalid deposit amount.\")\n",
    "        else:\n",
    "            print(f\"Account {account_number} does not exist.\")\n",
    "\n",
    "    def get_transactions(self):\n",
    "        return self.transactions\n",
    "\n",
    "\n"
   ]
  },
  {
   "cell_type": "code",
   "execution_count": 4,
   "id": "79a5307e",
   "metadata": {},
   "outputs": [
    {
     "name": "stdout",
     "output_type": "stream",
     "text": [
      "Account 1001 created successfully.\n",
      "Deposit successful. Updated balance: 1500\n",
      "Balance for account 1001: 1500\n",
      "Withdrawal successful. Updated balance: 1300\n",
      "Balance for account 1001: 1300\n",
      "\n",
      "All Transactions:\n",
      "['Account 1001 created with an initial balance of 1000.', 'Deposited 500 into account 1001.', 'Withdrew 200 from account 1001.']\n"
     ]
    }
   ],
   "source": [
    "bank = Bank()\n",
    "bank.create_account(1001, initial_balance=1000)\n",
    "bank.deposit(1001, 500)\n",
    "print(f\"Balance for account 1001: {bank.check_balance(1001)}\")\n",
    "bank.withdraw(1001, 200)\n",
    "print(f\"Balance for account 1001: {bank.check_balance(1001)}\")\n",
    "\n",
    "\n",
    "print(\"\\nAll Transactions:\")\n",
    "print(bank.get_transactions())"
   ]
  }
 ],
 "metadata": {
  "kernelspec": {
   "display_name": "Python 3 (ipykernel)",
   "language": "python",
   "name": "python3"
  },
  "language_info": {
   "codemirror_mode": {
    "name": "ipython",
    "version": 3
   },
   "file_extension": ".py",
   "mimetype": "text/x-python",
   "name": "python",
   "nbconvert_exporter": "python",
   "pygments_lexer": "ipython3",
   "version": "3.12.0"
  }
 },
 "nbformat": 4,
 "nbformat_minor": 5
}
